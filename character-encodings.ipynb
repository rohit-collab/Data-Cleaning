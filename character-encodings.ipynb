{
 "cells": [
  {
   "cell_type": "markdown",
   "id": "demonstrated-cookbook",
   "metadata": {
    "papermill": {
     "duration": 0.009392,
     "end_time": "2021-04-30T03:03:36.206700",
     "exception": false,
     "start_time": "2021-04-30T03:03:36.197308",
     "status": "completed"
    },
    "tags": []
   },
   "source": [
    "In this exercise, you'll apply what you learned in the **Character encodings** tutorial.\n",
    "\n",
    "# Setup\n",
    "\n",
    "The questions below will give you feedback on your work. Run the following cell to set up the feedback system."
   ]
  },
  {
   "cell_type": "code",
   "execution_count": 1,
   "id": "unique-lloyd",
   "metadata": {
    "execution": {
     "iopub.execute_input": "2021-04-30T03:03:36.229909Z",
     "iopub.status.busy": "2021-04-30T03:03:36.229206Z",
     "iopub.status.idle": "2021-04-30T03:03:36.301456Z",
     "shell.execute_reply": "2021-04-30T03:03:36.300895Z"
    },
    "papermill": {
     "duration": 0.086439,
     "end_time": "2021-04-30T03:03:36.301633",
     "exception": false,
     "start_time": "2021-04-30T03:03:36.215194",
     "status": "completed"
    },
    "tags": []
   },
   "outputs": [
    {
     "name": "stdout",
     "output_type": "stream",
     "text": [
      "Setup Complete\n"
     ]
    }
   ],
   "source": [
    "from learntools.core import binder\n",
    "binder.bind(globals())\n",
    "from learntools.data_cleaning.ex4 import *\n",
    "print(\"Setup Complete\")"
   ]
  },
  {
   "cell_type": "markdown",
   "id": "coastal-latin",
   "metadata": {
    "papermill": {
     "duration": 0.008455,
     "end_time": "2021-04-30T03:03:36.319052",
     "exception": false,
     "start_time": "2021-04-30T03:03:36.310597",
     "status": "completed"
    },
    "tags": []
   },
   "source": [
    "# Get our environment set up\n",
    "\n",
    "The first thing we'll need to do is load in the libraries we'll be using."
   ]
  },
  {
   "cell_type": "code",
   "execution_count": 2,
   "id": "documented-tulsa",
   "metadata": {
    "execution": {
     "iopub.execute_input": "2021-04-30T03:03:36.339236Z",
     "iopub.status.busy": "2021-04-30T03:03:36.338704Z",
     "iopub.status.idle": "2021-04-30T03:03:36.342630Z",
     "shell.execute_reply": "2021-04-30T03:03:36.342174Z"
    },
    "papermill": {
     "duration": 0.015528,
     "end_time": "2021-04-30T03:03:36.342751",
     "exception": false,
     "start_time": "2021-04-30T03:03:36.327223",
     "status": "completed"
    },
    "tags": []
   },
   "outputs": [],
   "source": [
    "# modules we'll use\n",
    "import pandas as pd\n",
    "import numpy as np\n",
    "\n",
    "# helpful character encoding module\n",
    "import chardet\n",
    "\n",
    "# set seed for reproducibility\n",
    "np.random.seed(0)"
   ]
  },
  {
   "cell_type": "markdown",
   "id": "intensive-disability",
   "metadata": {
    "papermill": {
     "duration": 0.00815,
     "end_time": "2021-04-30T03:03:36.359238",
     "exception": false,
     "start_time": "2021-04-30T03:03:36.351088",
     "status": "completed"
    },
    "tags": []
   },
   "source": [
    "# 1) What are encodings?\n",
    "\n",
    "You're working with a dataset composed of bytes.  Run the code cell below to print a sample entry."
   ]
  },
  {
   "cell_type": "code",
   "execution_count": 3,
   "id": "comic-uncle",
   "metadata": {
    "execution": {
     "iopub.execute_input": "2021-04-30T03:03:36.380260Z",
     "iopub.status.busy": "2021-04-30T03:03:36.379333Z",
     "iopub.status.idle": "2021-04-30T03:03:36.383966Z",
     "shell.execute_reply": "2021-04-30T03:03:36.383232Z"
    },
    "papermill": {
     "duration": 0.016751,
     "end_time": "2021-04-30T03:03:36.384170",
     "exception": false,
     "start_time": "2021-04-30T03:03:36.367419",
     "status": "completed"
    },
    "tags": []
   },
   "outputs": [
    {
     "name": "stdout",
     "output_type": "stream",
     "text": [
      "b'\\xa7A\\xa6n'\n",
      "data type: <class 'bytes'>\n"
     ]
    }
   ],
   "source": [
    "sample_entry = b'\\xa7A\\xa6n'\n",
    "print(sample_entry)\n",
    "print('data type:', type(sample_entry))"
   ]
  },
  {
   "cell_type": "markdown",
   "id": "skilled-marketplace",
   "metadata": {
    "papermill": {
     "duration": 0.008521,
     "end_time": "2021-04-30T03:03:36.402536",
     "exception": false,
     "start_time": "2021-04-30T03:03:36.394015",
     "status": "completed"
    },
    "tags": []
   },
   "source": [
    "You notice that it doesn't use the standard UTF-8 encoding. \n",
    "\n",
    "Use the next code cell to create a variable `new_entry` that changes the encoding from `\"big5-tw\"` to `\"utf-8\"`.  `new_entry` should have the bytes datatype."
   ]
  },
  {
   "cell_type": "code",
   "execution_count": 4,
   "id": "lyric-pakistan",
   "metadata": {
    "execution": {
     "iopub.execute_input": "2021-04-30T03:03:36.425592Z",
     "iopub.status.busy": "2021-04-30T03:03:36.424895Z",
     "iopub.status.idle": "2021-04-30T03:03:36.429729Z",
     "shell.execute_reply": "2021-04-30T03:03:36.429190Z"
    },
    "papermill": {
     "duration": 0.018755,
     "end_time": "2021-04-30T03:03:36.429845",
     "exception": false,
     "start_time": "2021-04-30T03:03:36.411090",
     "status": "completed"
    },
    "tags": []
   },
   "outputs": [
    {
     "data": {
      "application/javascript": [
       "parent.postMessage({\"jupyterEvent\": \"custom.exercise_interaction\", \"data\": {\"outcomeType\": 1, \"valueTowardsCompletion\": 0.3333333333333333, \"interactionType\": 1, \"questionType\": 1, \"questionId\": \"1_EncodingsIntro\", \"learnToolsVersion\": \"0.3.4\", \"failureMessage\": \"\", \"exceptionClass\": \"\", \"trace\": \"\"}}, \"*\")"
      ],
      "text/plain": [
       "<IPython.core.display.Javascript object>"
      ]
     },
     "metadata": {},
     "output_type": "display_data"
    },
    {
     "data": {
      "text/markdown": [
       "<span style=\"color:#33cc33\">Correct</span>"
      ],
      "text/plain": [
       "Correct"
      ]
     },
     "metadata": {},
     "output_type": "display_data"
    }
   ],
   "source": [
    "\n",
    "before = sample_entry.decode(\"big5-tw\")\n",
    "new_entry = before.encode()\n",
    "# Check your answer\n",
    "q1.check()"
   ]
  },
  {
   "cell_type": "code",
   "execution_count": 5,
   "id": "overhead-antique",
   "metadata": {
    "execution": {
     "iopub.execute_input": "2021-04-30T03:03:36.452839Z",
     "iopub.status.busy": "2021-04-30T03:03:36.452303Z",
     "iopub.status.idle": "2021-04-30T03:03:36.454831Z",
     "shell.execute_reply": "2021-04-30T03:03:36.454297Z"
    },
    "papermill": {
     "duration": 0.015537,
     "end_time": "2021-04-30T03:03:36.454951",
     "exception": false,
     "start_time": "2021-04-30T03:03:36.439414",
     "status": "completed"
    },
    "tags": []
   },
   "outputs": [],
   "source": [
    "# Lines below will give you a hint or solution code\n",
    "#q1.hint()\n",
    "#q1.solution()"
   ]
  },
  {
   "cell_type": "markdown",
   "id": "median-craft",
   "metadata": {
    "papermill": {
     "duration": 0.009558,
     "end_time": "2021-04-30T03:03:36.474028",
     "exception": false,
     "start_time": "2021-04-30T03:03:36.464470",
     "status": "completed"
    },
    "tags": []
   },
   "source": [
    "# 2) Reading in files with encoding problems\n",
    "\n",
    "Use the code cell below to read in this file at path `\"../input/fatal-police-shootings-in-the-us/PoliceKillingsUS.csv\"`.  \n",
    "\n",
    "Figure out what the correct encoding should be and read in the file to a DataFrame `police_killings`."
   ]
  },
  {
   "cell_type": "code",
   "execution_count": 6,
   "id": "disabled-identity",
   "metadata": {
    "execution": {
     "iopub.execute_input": "2021-04-30T03:03:36.499557Z",
     "iopub.status.busy": "2021-04-30T03:03:36.499013Z",
     "iopub.status.idle": "2021-04-30T03:03:36.516679Z",
     "shell.execute_reply": "2021-04-30T03:03:36.516114Z"
    },
    "papermill": {
     "duration": 0.033106,
     "end_time": "2021-04-30T03:03:36.516797",
     "exception": false,
     "start_time": "2021-04-30T03:03:36.483691",
     "status": "completed"
    },
    "tags": []
   },
   "outputs": [
    {
     "data": {
      "application/javascript": [
       "parent.postMessage({\"jupyterEvent\": \"custom.exercise_interaction\", \"data\": {\"outcomeType\": 1, \"valueTowardsCompletion\": 0.3333333333333333, \"interactionType\": 1, \"questionType\": 1, \"questionId\": \"2_ReadIn\", \"learnToolsVersion\": \"0.3.4\", \"failureMessage\": \"\", \"exceptionClass\": \"\", \"trace\": \"\"}}, \"*\")"
      ],
      "text/plain": [
       "<IPython.core.display.Javascript object>"
      ]
     },
     "metadata": {},
     "output_type": "display_data"
    },
    {
     "data": {
      "text/markdown": [
       "<span style=\"color:#33cc33\">Correct</span>"
      ],
      "text/plain": [
       "Correct"
      ]
     },
     "metadata": {},
     "output_type": "display_data"
    }
   ],
   "source": [
    "# TODO: Load in the DataFrame correctly.\n",
    "police_killings = pd.read_csv(\"../input/fatal-police-shootings-in-the-us/PoliceKillingsUS.csv\", encoding='Windows-1252')\n",
    "\n",
    "# Check your answer\n",
    "q2.check()"
   ]
  },
  {
   "cell_type": "markdown",
   "id": "reasonable-replica",
   "metadata": {
    "papermill": {
     "duration": 0.010047,
     "end_time": "2021-04-30T03:03:36.537186",
     "exception": false,
     "start_time": "2021-04-30T03:03:36.527139",
     "status": "completed"
    },
    "tags": []
   },
   "source": [
    "Feel free to use any additional code cells for supplemental work.  To get credit for finishing this question, you'll need to run `q2.check()` and get a result of **Correct**."
   ]
  },
  {
   "cell_type": "code",
   "execution_count": 7,
   "id": "civic-volume",
   "metadata": {
    "execution": {
     "iopub.execute_input": "2021-04-30T03:03:36.560439Z",
     "iopub.status.busy": "2021-04-30T03:03:36.559622Z",
     "iopub.status.idle": "2021-04-30T03:03:36.563058Z",
     "shell.execute_reply": "2021-04-30T03:03:36.563471Z"
    },
    "papermill": {
     "duration": 0.016208,
     "end_time": "2021-04-30T03:03:36.563615",
     "exception": false,
     "start_time": "2021-04-30T03:03:36.547407",
     "status": "completed"
    },
    "tags": []
   },
   "outputs": [],
   "source": [
    "# (Optional) Use this code cell for any additional work."
   ]
  },
  {
   "cell_type": "code",
   "execution_count": 8,
   "id": "cellular-bobby",
   "metadata": {
    "execution": {
     "iopub.execute_input": "2021-04-30T03:03:36.587241Z",
     "iopub.status.busy": "2021-04-30T03:03:36.586392Z",
     "iopub.status.idle": "2021-04-30T03:03:36.589450Z",
     "shell.execute_reply": "2021-04-30T03:03:36.589911Z"
    },
    "papermill": {
     "duration": 0.016068,
     "end_time": "2021-04-30T03:03:36.590044",
     "exception": false,
     "start_time": "2021-04-30T03:03:36.573976",
     "status": "completed"
    },
    "tags": []
   },
   "outputs": [],
   "source": [
    "# Lines below will give you a hint or solution code\n",
    "#q2.hint()\n",
    "#q2.solution()"
   ]
  },
  {
   "cell_type": "markdown",
   "id": "threatened-investor",
   "metadata": {
    "papermill": {
     "duration": 0.010192,
     "end_time": "2021-04-30T03:03:36.610652",
     "exception": false,
     "start_time": "2021-04-30T03:03:36.600460",
     "status": "completed"
    },
    "tags": []
   },
   "source": [
    "# 3) Saving your files with UTF-8 encoding\n",
    "\n",
    "Save a version of the police killings dataset to CSV with UTF-8 encoding.  Your answer will be marked correct after saving this file.  \n",
    "\n",
    "Note: When using the `to_csv()` method, supply only the name of the file (e.g., `\"my_file.csv\"`).  This saves the file at the filepath `\"/kaggle/working/my_file.csv\"`."
   ]
  },
  {
   "cell_type": "code",
   "execution_count": 9,
   "id": "consistent-ground",
   "metadata": {
    "execution": {
     "iopub.execute_input": "2021-04-30T03:03:36.634232Z",
     "iopub.status.busy": "2021-04-30T03:03:36.633370Z",
     "iopub.status.idle": "2021-04-30T03:03:36.662893Z",
     "shell.execute_reply": "2021-04-30T03:03:36.663306Z"
    },
    "papermill": {
     "duration": 0.042402,
     "end_time": "2021-04-30T03:03:36.663449",
     "exception": false,
     "start_time": "2021-04-30T03:03:36.621047",
     "status": "completed"
    },
    "tags": []
   },
   "outputs": [
    {
     "data": {
      "application/javascript": [
       "parent.postMessage({\"jupyterEvent\": \"custom.exercise_interaction\", \"data\": {\"outcomeType\": 1, \"valueTowardsCompletion\": 0.3333333333333333, \"interactionType\": 1, \"questionType\": 2, \"questionId\": \"3_SaveCSV\", \"learnToolsVersion\": \"0.3.4\", \"failureMessage\": \"\", \"exceptionClass\": \"\", \"trace\": \"\"}}, \"*\")"
      ],
      "text/plain": [
       "<IPython.core.display.Javascript object>"
      ]
     },
     "metadata": {},
     "output_type": "display_data"
    },
    {
     "data": {
      "text/markdown": [
       "<span style=\"color:#33cc33\">Correct</span>"
      ],
      "text/plain": [
       "Correct"
      ]
     },
     "metadata": {},
     "output_type": "display_data"
    }
   ],
   "source": [
    "# TODO: Save the police killings dataset to CSV\n",
    "police_killings.to_csv(\"my_file.csv\")\n",
    "\n",
    "\n",
    "# Check your answer\n",
    "q3.check()\n"
   ]
  },
  {
   "cell_type": "code",
   "execution_count": 10,
   "id": "matched-calendar",
   "metadata": {
    "execution": {
     "iopub.execute_input": "2021-04-30T03:03:36.689001Z",
     "iopub.status.busy": "2021-04-30T03:03:36.688161Z",
     "iopub.status.idle": "2021-04-30T03:03:36.691156Z",
     "shell.execute_reply": "2021-04-30T03:03:36.691616Z"
    },
    "papermill": {
     "duration": 0.01686,
     "end_time": "2021-04-30T03:03:36.691748",
     "exception": false,
     "start_time": "2021-04-30T03:03:36.674888",
     "status": "completed"
    },
    "tags": []
   },
   "outputs": [],
   "source": [
    "# Lines below will give you a hint or solution code\n",
    "#q3.hint()\n",
    "#q3.solution()"
   ]
  }
 ],
 "metadata": {
  "kernelspec": {
   "display_name": "Python 3",
   "language": "python",
   "name": "python3"
  },
  "language_info": {
   "codemirror_mode": {
    "name": "ipython",
    "version": 3
   },
   "file_extension": ".py",
   "mimetype": "text/x-python",
   "name": "python",
   "nbconvert_exporter": "python",
   "pygments_lexer": "ipython3",
   "version": "3.7.9"
  },
  "papermill": {
   "default_parameters": {},
   "duration": 5.887335,
   "end_time": "2021-04-30T03:03:37.109311",
   "environment_variables": {},
   "exception": null,
   "input_path": "__notebook__.ipynb",
   "output_path": "__notebook__.ipynb",
   "parameters": {},
   "start_time": "2021-04-30T03:03:31.221976",
   "version": "2.3.2"
  }
 },
 "nbformat": 4,
 "nbformat_minor": 5
}
