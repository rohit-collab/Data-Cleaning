{
 "cells": [
  {
   "cell_type": "markdown",
   "id": "rubber-hundred",
   "metadata": {
    "papermill": {
     "duration": 0.023061,
     "end_time": "2021-04-30T02:47:21.343398",
     "exception": false,
     "start_time": "2021-04-30T02:47:21.320337",
     "status": "completed"
    },
    "tags": []
   },
   
  },
  {
   "cell_type": "markdown",
   "id": "miniature-bread",
   "metadata": {
    "papermill": {
     "duration": 0.021703,
     "end_time": "2021-04-30T02:47:21.386621",
     "exception": false,
     "start_time": "2021-04-30T02:47:21.364918",
     "status": "completed"
    },
    "tags": []
   },
   "source": [
    "In this exercise, you'll apply what you learned in the **Parsing dates** tutorial.\n",
    "\n",
    "# Setup\n",
    "\n",
    "The questions below will give you feedback on your work. Run the following cell to set up the feedback system."
   ]
  },
  {
   "cell_type": "code",
   "execution_count": 1,
   "id": "opening-romania",
   "metadata": {
    "execution": {
     "iopub.execute_input": "2021-04-30T02:47:21.434192Z",
     "iopub.status.busy": "2021-04-30T02:47:21.432986Z",
     "iopub.status.idle": "2021-04-30T02:47:22.869700Z",
     "shell.execute_reply": "2021-04-30T02:47:22.868772Z"
    },
    "papermill": {
     "duration": 1.462038,
     "end_time": "2021-04-30T02:47:22.869941",
     "exception": false,
     "start_time": "2021-04-30T02:47:21.407903",
     "status": "completed"
    },
    "tags": []
   },
   "outputs": [
    {
     "name": "stdout",
     "output_type": "stream",
     "text": [
      "Setup Complete\n"
     ]
    }
   ],
   "source": [
    "from learntools.core import binder\n",
    "binder.bind(globals())\n",
    "from learntools.data_cleaning.ex3 import *\n",
    "print(\"Setup Complete\")"
   ]
  },
  {
   "cell_type": "markdown",
   "id": "fundamental-secretariat",
   "metadata": {
    "papermill": {
     "duration": 0.024046,
     "end_time": "2021-04-30T02:47:22.916948",
     "exception": false,
     "start_time": "2021-04-30T02:47:22.892902",
     "status": "completed"
    },
    "tags": []
   },
   "source": [
    "# Get our environment set up\n",
    "\n",
    "The first thing we'll need to do is load in the libraries and dataset we'll be using. We'll be working with a dataset containing information on earthquakes that occured between 1965 and 2016."
   ]
  },
  {
   "cell_type": "code",
   "execution_count": 2,
   "id": "interim-ireland",
   "metadata": {
    "execution": {
     "iopub.execute_input": "2021-04-30T02:47:22.969048Z",
     "iopub.status.busy": "2021-04-30T02:47:22.968323Z",
     "iopub.status.idle": "2021-04-30T02:47:23.092211Z",
     "shell.execute_reply": "2021-04-30T02:47:23.091528Z"
    },
    "papermill": {
     "duration": 0.153415,
     "end_time": "2021-04-30T02:47:23.092377",
     "exception": false,
     "start_time": "2021-04-30T02:47:22.938962",
     "status": "completed"
    },
    "tags": []
   },
   "outputs": [],
   "source": [
    "# modules we'll use\n",
    "import pandas as pd\n",
    "import numpy as np\n",
    "import seaborn as sns\n",
    "import datetime\n",
    "\n",
    "# read in our data\n",
    "earthquakes = pd.read_csv(\"../input/earthquake-database/database.csv\")\n",
    "\n",
    "# set seed for reproducibility\n",
    "np.random.seed(0)"
   ]
  },
  {
   "cell_type": "markdown",
   "id": "thirty-woman",
   "metadata": {
    "papermill": {
     "duration": 0.021943,
     "end_time": "2021-04-30T02:47:23.137012",
     "exception": false,
     "start_time": "2021-04-30T02:47:23.115069",
     "status": "completed"
    },
    "tags": []
   },
   "source": [
    "# 1) Check the data type of our date column\n",
    "\n",
    "You'll be working with the \"Date\" column from the `earthquakes` dataframe.  Investigate this column now: does it look like it contains dates?  What is the dtype of the column?"
   ]
  },
  {
   "cell_type": "code",
   "execution_count": 3,
   "id": "smart-notion",
   "metadata": {
    "execution": {
     "iopub.execute_input": "2021-04-30T02:47:23.194107Z",
     "iopub.status.busy": "2021-04-30T02:47:23.192913Z",
     "iopub.status.idle": "2021-04-30T02:47:23.228044Z",
     "shell.execute_reply": "2021-04-30T02:47:23.228613Z"
    },
    "papermill": {
     "duration": 0.069314,
     "end_time": "2021-04-30T02:47:23.228830",
     "exception": false,
     "start_time": "2021-04-30T02:47:23.159516",
     "status": "completed"
    },
    "tags": []
   },
   "outputs": [
    {
     "data": {
      "text/html": [
       "<div>\n",
       "<style scoped>\n",
       "    .dataframe tbody tr th:only-of-type {\n",
       "        vertical-align: middle;\n",
       "    }\n",
       "\n",
       "    .dataframe tbody tr th {\n",
       "        vertical-align: top;\n",
       "    }\n",
       "\n",
       "    .dataframe thead th {\n",
       "        text-align: right;\n",
       "    }\n",
       "</style>\n",
       "<table border=\"1\" class=\"dataframe\">\n",
       "  <thead>\n",
       "    <tr style=\"text-align: right;\">\n",
       "      <th></th>\n",
       "      <th>Date</th>\n",
       "      <th>Time</th>\n",
       "      <th>Latitude</th>\n",
       "      <th>Longitude</th>\n",
       "      <th>Type</th>\n",
       "      <th>Depth</th>\n",
       "      <th>Depth Error</th>\n",
       "      <th>Depth Seismic Stations</th>\n",
       "      <th>Magnitude</th>\n",
       "      <th>Magnitude Type</th>\n",
       "      <th>...</th>\n",
       "      <th>Magnitude Seismic Stations</th>\n",
       "      <th>Azimuthal Gap</th>\n",
       "      <th>Horizontal Distance</th>\n",
       "      <th>Horizontal Error</th>\n",
       "      <th>Root Mean Square</th>\n",
       "      <th>ID</th>\n",
       "      <th>Source</th>\n",
       "      <th>Location Source</th>\n",
       "      <th>Magnitude Source</th>\n",
       "      <th>Status</th>\n",
       "    </tr>\n",
       "  </thead>\n",
       "  <tbody>\n",
       "    <tr>\n",
       "      <th>0</th>\n",
       "      <td>01/02/1965</td>\n",
       "      <td>13:44:18</td>\n",
       "      <td>19.246</td>\n",
       "      <td>145.616</td>\n",
       "      <td>Earthquake</td>\n",
       "      <td>131.6</td>\n",
       "      <td>NaN</td>\n",
       "      <td>NaN</td>\n",
       "      <td>6.0</td>\n",
       "      <td>MW</td>\n",
       "      <td>...</td>\n",
       "      <td>NaN</td>\n",
       "      <td>NaN</td>\n",
       "      <td>NaN</td>\n",
       "      <td>NaN</td>\n",
       "      <td>NaN</td>\n",
       "      <td>ISCGEM860706</td>\n",
       "      <td>ISCGEM</td>\n",
       "      <td>ISCGEM</td>\n",
       "      <td>ISCGEM</td>\n",
       "      <td>Automatic</td>\n",
       "    </tr>\n",
       "    <tr>\n",
       "      <th>1</th>\n",
       "      <td>01/04/1965</td>\n",
       "      <td>11:29:49</td>\n",
       "      <td>1.863</td>\n",
       "      <td>127.352</td>\n",
       "      <td>Earthquake</td>\n",
       "      <td>80.0</td>\n",
       "      <td>NaN</td>\n",
       "      <td>NaN</td>\n",
       "      <td>5.8</td>\n",
       "      <td>MW</td>\n",
       "      <td>...</td>\n",
       "      <td>NaN</td>\n",
       "      <td>NaN</td>\n",
       "      <td>NaN</td>\n",
       "      <td>NaN</td>\n",
       "      <td>NaN</td>\n",
       "      <td>ISCGEM860737</td>\n",
       "      <td>ISCGEM</td>\n",
       "      <td>ISCGEM</td>\n",
       "      <td>ISCGEM</td>\n",
       "      <td>Automatic</td>\n",
       "    </tr>\n",
       "    <tr>\n",
       "      <th>2</th>\n",
       "      <td>01/05/1965</td>\n",
       "      <td>18:05:58</td>\n",
       "      <td>-20.579</td>\n",
       "      <td>-173.972</td>\n",
       "      <td>Earthquake</td>\n",
       "      <td>20.0</td>\n",
       "      <td>NaN</td>\n",
       "      <td>NaN</td>\n",
       "      <td>6.2</td>\n",
       "      <td>MW</td>\n",
       "      <td>...</td>\n",
       "      <td>NaN</td>\n",
       "      <td>NaN</td>\n",
       "      <td>NaN</td>\n",
       "      <td>NaN</td>\n",
       "      <td>NaN</td>\n",
       "      <td>ISCGEM860762</td>\n",
       "      <td>ISCGEM</td>\n",
       "      <td>ISCGEM</td>\n",
       "      <td>ISCGEM</td>\n",
       "      <td>Automatic</td>\n",
       "    </tr>\n",
       "    <tr>\n",
       "      <th>3</th>\n",
       "      <td>01/08/1965</td>\n",
       "      <td>18:49:43</td>\n",
       "      <td>-59.076</td>\n",
       "      <td>-23.557</td>\n",
       "      <td>Earthquake</td>\n",
       "      <td>15.0</td>\n",
       "      <td>NaN</td>\n",
       "      <td>NaN</td>\n",
       "      <td>5.8</td>\n",
       "      <td>MW</td>\n",
       "      <td>...</td>\n",
       "      <td>NaN</td>\n",
       "      <td>NaN</td>\n",
       "      <td>NaN</td>\n",
       "      <td>NaN</td>\n",
       "      <td>NaN</td>\n",
       "      <td>ISCGEM860856</td>\n",
       "      <td>ISCGEM</td>\n",
       "      <td>ISCGEM</td>\n",
       "      <td>ISCGEM</td>\n",
       "      <td>Automatic</td>\n",
       "    </tr>\n",
       "    <tr>\n",
       "      <th>4</th>\n",
       "      <td>01/09/1965</td>\n",
       "      <td>13:32:50</td>\n",
       "      <td>11.938</td>\n",
       "      <td>126.427</td>\n",
       "      <td>Earthquake</td>\n",
       "      <td>15.0</td>\n",
       "      <td>NaN</td>\n",
       "      <td>NaN</td>\n",
       "      <td>5.8</td>\n",
       "      <td>MW</td>\n",
       "      <td>...</td>\n",
       "      <td>NaN</td>\n",
       "      <td>NaN</td>\n",
       "      <td>NaN</td>\n",
       "      <td>NaN</td>\n",
       "      <td>NaN</td>\n",
       "      <td>ISCGEM860890</td>\n",
       "      <td>ISCGEM</td>\n",
       "      <td>ISCGEM</td>\n",
       "      <td>ISCGEM</td>\n",
       "      <td>Automatic</td>\n",
       "    </tr>\n",
       "  </tbody>\n",
       "</table>\n",
       "<p>5 rows × 21 columns</p>\n",
       "</div>"
      ],
      "text/plain": [
       "         Date      Time  Latitude  Longitude        Type  Depth  Depth Error  \\\n",
       "0  01/02/1965  13:44:18    19.246    145.616  Earthquake  131.6          NaN   \n",
       "1  01/04/1965  11:29:49     1.863    127.352  Earthquake   80.0          NaN   \n",
       "2  01/05/1965  18:05:58   -20.579   -173.972  Earthquake   20.0          NaN   \n",
       "3  01/08/1965  18:49:43   -59.076    -23.557  Earthquake   15.0          NaN   \n",
       "4  01/09/1965  13:32:50    11.938    126.427  Earthquake   15.0          NaN   \n",
       "\n",
       "   Depth Seismic Stations  Magnitude Magnitude Type  ...  \\\n",
       "0                     NaN        6.0             MW  ...   \n",
       "1                     NaN        5.8             MW  ...   \n",
       "2                     NaN        6.2             MW  ...   \n",
       "3                     NaN        5.8             MW  ...   \n",
       "4                     NaN        5.8             MW  ...   \n",
       "\n",
       "   Magnitude Seismic Stations  Azimuthal Gap  Horizontal Distance  \\\n",
       "0                         NaN            NaN                  NaN   \n",
       "1                         NaN            NaN                  NaN   \n",
       "2                         NaN            NaN                  NaN   \n",
       "3                         NaN            NaN                  NaN   \n",
       "4                         NaN            NaN                  NaN   \n",
       "\n",
       "   Horizontal Error  Root Mean Square            ID  Source Location Source  \\\n",
       "0               NaN               NaN  ISCGEM860706  ISCGEM          ISCGEM   \n",
       "1               NaN               NaN  ISCGEM860737  ISCGEM          ISCGEM   \n",
       "2               NaN               NaN  ISCGEM860762  ISCGEM          ISCGEM   \n",
       "3               NaN               NaN  ISCGEM860856  ISCGEM          ISCGEM   \n",
       "4               NaN               NaN  ISCGEM860890  ISCGEM          ISCGEM   \n",
       "\n",
       "  Magnitude Source     Status  \n",
       "0           ISCGEM  Automatic  \n",
       "1           ISCGEM  Automatic  \n",
       "2           ISCGEM  Automatic  \n",
       "3           ISCGEM  Automatic  \n",
       "4           ISCGEM  Automatic  \n",
       "\n",
       "[5 rows x 21 columns]"
      ]
     },
     "execution_count": 3,
     "metadata": {},
     "output_type": "execute_result"
    }
   ],
   "source": [
    "# TODO: Your code here!\n",
    "earthquakes.head()\n"
   ]
  },
  {
   "cell_type": "code",
   "execution_count": 4,
   "id": "prompt-pricing",
   "metadata": {
    "execution": {
     "iopub.execute_input": "2021-04-30T02:47:23.279492Z",
     "iopub.status.busy": "2021-04-30T02:47:23.278777Z",
     "iopub.status.idle": "2021-04-30T02:47:23.286505Z",
     "shell.execute_reply": "2021-04-30T02:47:23.285886Z"
    },
    "papermill": {
     "duration": 0.034426,
     "end_time": "2021-04-30T02:47:23.286671",
     "exception": false,
     "start_time": "2021-04-30T02:47:23.252245",
     "status": "completed"
    },
    "tags": []
   },
   "outputs": [
    {
     "data": {
      "text/plain": [
       "dtype('O')"
      ]
     },
     "execution_count": 4,
     "metadata": {},
     "output_type": "execute_result"
    }
   ],
   "source": [
    "earthquakes['Date'].dtype"
   ]
  },
  {
   "cell_type": "markdown",
   "id": "ancient-sunglasses",
   "metadata": {
    "papermill": {
     "duration": 0.02312,
     "end_time": "2021-04-30T02:47:23.333881",
     "exception": false,
     "start_time": "2021-04-30T02:47:23.310761",
     "status": "completed"
    },
    "tags": []
   },
   "source": [
    "Once you have answered the question above, run the code cell below to get credit for your work."
   ]
  },
  {
   "cell_type": "code",
   "execution_count": 5,
   "id": "thorough-promotion",
   "metadata": {
    "execution": {
     "iopub.execute_input": "2021-04-30T02:47:23.386444Z",
     "iopub.status.busy": "2021-04-30T02:47:23.385728Z",
     "iopub.status.idle": "2021-04-30T02:47:23.391958Z",
     "shell.execute_reply": "2021-04-30T02:47:23.391331Z"
    },
    "papermill": {
     "duration": 0.034456,
     "end_time": "2021-04-30T02:47:23.392116",
     "exception": false,
     "start_time": "2021-04-30T02:47:23.357660",
     "status": "completed"
    },
    "tags": []
   },
   "outputs": [
    {
     "data": {
      "application/javascript": [
       "parent.postMessage({\"jupyterEvent\": \"custom.exercise_interaction\", \"data\": {\"outcomeType\": 1, \"valueTowardsCompletion\": 0.25, \"interactionType\": 1, \"questionType\": 4, \"questionId\": \"1_CheckDtype\", \"learnToolsVersion\": \"0.3.4\", \"failureMessage\": \"\", \"exceptionClass\": \"\", \"trace\": \"\"}}, \"*\")"
      ],
      "text/plain": [
       "<IPython.core.display.Javascript object>"
      ]
     },
     "metadata": {},
     "output_type": "display_data"
    },
    {
     "data": {
      "text/markdown": [
       "<span style=\"color:#33cc33\">Correct:</span> \n",
       "\n",
       "The \"Date\" column in the `earthquakes` DataFrame does have dates.  The dtype is \"object\"."
      ],
      "text/plain": [
       "Correct: \n",
       "\n",
       "The \"Date\" column in the `earthquakes` DataFrame does have dates.  The dtype is \"object\"."
      ]
     },
     "metadata": {},
     "output_type": "display_data"
    }
   ],
   "source": [
    "# Check your answer (Run this code cell to receive credit!)\n",
    "q1.check()\n"
   ]
  },
  {
   "cell_type": "code",
   "execution_count": 6,
   "id": "civic-diesel",
   "metadata": {
    "execution": {
     "iopub.execute_input": "2021-04-30T02:47:23.445643Z",
     "iopub.status.busy": "2021-04-30T02:47:23.444948Z",
     "iopub.status.idle": "2021-04-30T02:47:23.448067Z",
     "shell.execute_reply": "2021-04-30T02:47:23.448587Z"
    },
    "papermill": {
     "duration": 0.032047,
     "end_time": "2021-04-30T02:47:23.448785",
     "exception": false,
     "start_time": "2021-04-30T02:47:23.416738",
     "status": "completed"
    },
    "tags": []
   },
   "outputs": [],
   "source": [
    "# Line below will give you a hint\n",
    "#q1.hint()"
   ]
  },
  {
   "cell_type": "markdown",
   "id": "quality-control",
   "metadata": {
    "papermill": {
     "duration": 0.024147,
     "end_time": "2021-04-30T02:47:23.498094",
     "exception": false,
     "start_time": "2021-04-30T02:47:23.473947",
     "status": "completed"
    },
    "tags": []
   },
   "source": [
    "# 2) Convert our date columns to datetime\n",
    "\n",
    "Most of the entries in the \"Date\" column follow the same format: \"month/day/four-digit year\".  However, the entry at index 3378 follows a completely different pattern.  Run the code cell below to see this."
   ]
  },
  {
   "cell_type": "code",
   "execution_count": 7,
   "id": "adverse-foster",
   "metadata": {
    "execution": {
     "iopub.execute_input": "2021-04-30T02:47:23.550980Z",
     "iopub.status.busy": "2021-04-30T02:47:23.550205Z",
     "iopub.status.idle": "2021-04-30T02:47:23.583050Z",
     "shell.execute_reply": "2021-04-30T02:47:23.582316Z"
    },
    "papermill": {
     "duration": 0.060701,
     "end_time": "2021-04-30T02:47:23.583222",
     "exception": false,
     "start_time": "2021-04-30T02:47:23.522521",
     "status": "completed"
    },
    "tags": []
   },
   "outputs": [
    {
     "data": {
      "text/html": [
       "<div>\n",
       "<style scoped>\n",
       "    .dataframe tbody tr th:only-of-type {\n",
       "        vertical-align: middle;\n",
       "    }\n",
       "\n",
       "    .dataframe tbody tr th {\n",
       "        vertical-align: top;\n",
       "    }\n",
       "\n",
       "    .dataframe thead th {\n",
       "        text-align: right;\n",
       "    }\n",
       "</style>\n",
       "<table border=\"1\" class=\"dataframe\">\n",
       "  <thead>\n",
       "    <tr style=\"text-align: right;\">\n",
       "      <th></th>\n",
       "      <th>Date</th>\n",
       "      <th>Time</th>\n",
       "      <th>Latitude</th>\n",
       "      <th>Longitude</th>\n",
       "      <th>Type</th>\n",
       "      <th>Depth</th>\n",
       "      <th>Depth Error</th>\n",
       "      <th>Depth Seismic Stations</th>\n",
       "      <th>Magnitude</th>\n",
       "      <th>Magnitude Type</th>\n",
       "      <th>...</th>\n",
       "      <th>Magnitude Seismic Stations</th>\n",
       "      <th>Azimuthal Gap</th>\n",
       "      <th>Horizontal Distance</th>\n",
       "      <th>Horizontal Error</th>\n",
       "      <th>Root Mean Square</th>\n",
       "      <th>ID</th>\n",
       "      <th>Source</th>\n",
       "      <th>Location Source</th>\n",
       "      <th>Magnitude Source</th>\n",
       "      <th>Status</th>\n",
       "    </tr>\n",
       "  </thead>\n",
       "  <tbody>\n",
       "    <tr>\n",
       "      <th>3378</th>\n",
       "      <td>1975-02-23T02:58:41.000Z</td>\n",
       "      <td>1975-02-23T02:58:41.000Z</td>\n",
       "      <td>8.017</td>\n",
       "      <td>124.075</td>\n",
       "      <td>Earthquake</td>\n",
       "      <td>623.0</td>\n",
       "      <td>NaN</td>\n",
       "      <td>NaN</td>\n",
       "      <td>5.6</td>\n",
       "      <td>MB</td>\n",
       "      <td>...</td>\n",
       "      <td>NaN</td>\n",
       "      <td>NaN</td>\n",
       "      <td>NaN</td>\n",
       "      <td>NaN</td>\n",
       "      <td>NaN</td>\n",
       "      <td>USP0000A09</td>\n",
       "      <td>US</td>\n",
       "      <td>US</td>\n",
       "      <td>US</td>\n",
       "      <td>Reviewed</td>\n",
       "    </tr>\n",
       "    <tr>\n",
       "      <th>3379</th>\n",
       "      <td>02/23/1975</td>\n",
       "      <td>03:53:36</td>\n",
       "      <td>-21.727</td>\n",
       "      <td>-71.356</td>\n",
       "      <td>Earthquake</td>\n",
       "      <td>33.0</td>\n",
       "      <td>NaN</td>\n",
       "      <td>NaN</td>\n",
       "      <td>5.6</td>\n",
       "      <td>MB</td>\n",
       "      <td>...</td>\n",
       "      <td>NaN</td>\n",
       "      <td>NaN</td>\n",
       "      <td>NaN</td>\n",
       "      <td>NaN</td>\n",
       "      <td>NaN</td>\n",
       "      <td>USP0000A0A</td>\n",
       "      <td>US</td>\n",
       "      <td>US</td>\n",
       "      <td>US</td>\n",
       "      <td>Reviewed</td>\n",
       "    </tr>\n",
       "    <tr>\n",
       "      <th>3380</th>\n",
       "      <td>02/23/1975</td>\n",
       "      <td>07:34:11</td>\n",
       "      <td>-10.879</td>\n",
       "      <td>166.667</td>\n",
       "      <td>Earthquake</td>\n",
       "      <td>33.0</td>\n",
       "      <td>NaN</td>\n",
       "      <td>NaN</td>\n",
       "      <td>5.5</td>\n",
       "      <td>MS</td>\n",
       "      <td>...</td>\n",
       "      <td>NaN</td>\n",
       "      <td>NaN</td>\n",
       "      <td>NaN</td>\n",
       "      <td>NaN</td>\n",
       "      <td>NaN</td>\n",
       "      <td>USP0000A0C</td>\n",
       "      <td>US</td>\n",
       "      <td>US</td>\n",
       "      <td>US</td>\n",
       "      <td>Reviewed</td>\n",
       "    </tr>\n",
       "    <tr>\n",
       "      <th>3381</th>\n",
       "      <td>02/25/1975</td>\n",
       "      <td>05:20:05</td>\n",
       "      <td>-7.388</td>\n",
       "      <td>149.798</td>\n",
       "      <td>Earthquake</td>\n",
       "      <td>33.0</td>\n",
       "      <td>NaN</td>\n",
       "      <td>NaN</td>\n",
       "      <td>5.5</td>\n",
       "      <td>MB</td>\n",
       "      <td>...</td>\n",
       "      <td>NaN</td>\n",
       "      <td>NaN</td>\n",
       "      <td>NaN</td>\n",
       "      <td>NaN</td>\n",
       "      <td>NaN</td>\n",
       "      <td>USP0000A12</td>\n",
       "      <td>US</td>\n",
       "      <td>US</td>\n",
       "      <td>US</td>\n",
       "      <td>Reviewed</td>\n",
       "    </tr>\n",
       "    <tr>\n",
       "      <th>3382</th>\n",
       "      <td>02/26/1975</td>\n",
       "      <td>04:48:55</td>\n",
       "      <td>85.047</td>\n",
       "      <td>97.969</td>\n",
       "      <td>Earthquake</td>\n",
       "      <td>33.0</td>\n",
       "      <td>NaN</td>\n",
       "      <td>NaN</td>\n",
       "      <td>5.6</td>\n",
       "      <td>MS</td>\n",
       "      <td>...</td>\n",
       "      <td>NaN</td>\n",
       "      <td>NaN</td>\n",
       "      <td>NaN</td>\n",
       "      <td>NaN</td>\n",
       "      <td>NaN</td>\n",
       "      <td>USP0000A1H</td>\n",
       "      <td>US</td>\n",
       "      <td>US</td>\n",
       "      <td>US</td>\n",
       "      <td>Reviewed</td>\n",
       "    </tr>\n",
       "  </tbody>\n",
       "</table>\n",
       "<p>5 rows × 21 columns</p>\n",
       "</div>"
      ],
      "text/plain": [
       "                          Date                      Time  Latitude  Longitude  \\\n",
       "3378  1975-02-23T02:58:41.000Z  1975-02-23T02:58:41.000Z     8.017    124.075   \n",
       "3379                02/23/1975                  03:53:36   -21.727    -71.356   \n",
       "3380                02/23/1975                  07:34:11   -10.879    166.667   \n",
       "3381                02/25/1975                  05:20:05    -7.388    149.798   \n",
       "3382                02/26/1975                  04:48:55    85.047     97.969   \n",
       "\n",
       "            Type  Depth  Depth Error  Depth Seismic Stations  Magnitude  \\\n",
       "3378  Earthquake  623.0          NaN                     NaN        5.6   \n",
       "3379  Earthquake   33.0          NaN                     NaN        5.6   \n",
       "3380  Earthquake   33.0          NaN                     NaN        5.5   \n",
       "3381  Earthquake   33.0          NaN                     NaN        5.5   \n",
       "3382  Earthquake   33.0          NaN                     NaN        5.6   \n",
       "\n",
       "     Magnitude Type  ...  Magnitude Seismic Stations  Azimuthal Gap  \\\n",
       "3378             MB  ...                         NaN            NaN   \n",
       "3379             MB  ...                         NaN            NaN   \n",
       "3380             MS  ...                         NaN            NaN   \n",
       "3381             MB  ...                         NaN            NaN   \n",
       "3382             MS  ...                         NaN            NaN   \n",
       "\n",
       "      Horizontal Distance  Horizontal Error  Root Mean Square          ID  \\\n",
       "3378                  NaN               NaN               NaN  USP0000A09   \n",
       "3379                  NaN               NaN               NaN  USP0000A0A   \n",
       "3380                  NaN               NaN               NaN  USP0000A0C   \n",
       "3381                  NaN               NaN               NaN  USP0000A12   \n",
       "3382                  NaN               NaN               NaN  USP0000A1H   \n",
       "\n",
       "     Source Location Source Magnitude Source    Status  \n",
       "3378     US              US               US  Reviewed  \n",
       "3379     US              US               US  Reviewed  \n",
       "3380     US              US               US  Reviewed  \n",
       "3381     US              US               US  Reviewed  \n",
       "3382     US              US               US  Reviewed  \n",
       "\n",
       "[5 rows x 21 columns]"
      ]
     },
     "execution_count": 7,
     "metadata": {},
     "output_type": "execute_result"
    }
   ],
   "source": [
    "earthquakes[3378:3383]"
   ]
  },
  {
   "cell_type": "markdown",
   "id": "requested-sociology",
   "metadata": {
    "papermill": {
     "duration": 0.025299,
     "end_time": "2021-04-30T02:47:23.634680",
     "exception": false,
     "start_time": "2021-04-30T02:47:23.609381",
     "status": "completed"
    },
    "tags": []
   },
   "source": [
    "This does appear to be an issue with data entry: ideally, all entries in the column have the same format.  We can get an idea of how widespread this issue is by checking the length of each entry in the \"Date\" column."
   ]
  },
  {
   "cell_type": "code",
   "execution_count": 8,
   "id": "dirty-virtue",
   "metadata": {
    "execution": {
     "iopub.execute_input": "2021-04-30T02:47:23.711223Z",
     "iopub.status.busy": "2021-04-30T02:47:23.697699Z",
     "iopub.status.idle": "2021-04-30T02:47:23.721996Z",
     "shell.execute_reply": "2021-04-30T02:47:23.721285Z"
    },
    "papermill": {
     "duration": 0.061048,
     "end_time": "2021-04-30T02:47:23.722157",
     "exception": false,
     "start_time": "2021-04-30T02:47:23.661109",
     "status": "completed"
    },
    "tags": []
   },
   "outputs": [
    {
     "data": {
      "text/plain": [
       "10    23409\n",
       "24        3\n",
       "Name: Date, dtype: int64"
      ]
     },
     "execution_count": 8,
     "metadata": {},
     "output_type": "execute_result"
    }
   ],
   "source": [
    "date_lengths = earthquakes.Date.str.len()\n",
    "date_lengths.value_counts()"
   ]
  },
  {
   "cell_type": "markdown",
   "id": "invisible-empty",
   "metadata": {
    "papermill": {
     "duration": 0.025307,
     "end_time": "2021-04-30T02:47:23.773627",
     "exception": false,
     "start_time": "2021-04-30T02:47:23.748320",
     "status": "completed"
    },
    "tags": []
   },
   "source": [
    "Looks like there are two more rows that has a date in a different format.  Run the code cell below to obtain the indices corresponding to those rows and print the data."
   ]
  },
  {
   "cell_type": "code",
   "execution_count": 9,
   "id": "educated-english",
   "metadata": {
    "execution": {
     "iopub.execute_input": "2021-04-30T02:47:23.831936Z",
     "iopub.status.busy": "2021-04-30T02:47:23.830986Z",
     "iopub.status.idle": "2021-04-30T02:47:23.887402Z",
     "shell.execute_reply": "2021-04-30T02:47:23.886836Z"
    },
    "papermill": {
     "duration": 0.087967,
     "end_time": "2021-04-30T02:47:23.887585",
     "exception": false,
     "start_time": "2021-04-30T02:47:23.799618",
     "status": "completed"
    },
    "tags": []
   },
   "outputs": [
    {
     "name": "stdout",
     "output_type": "stream",
     "text": [
      "Indices with corrupted data: [ 3378  7512 20650]\n"
     ]
    },
    {
     "data": {
      "text/html": [
       "<div>\n",
       "<style scoped>\n",
       "    .dataframe tbody tr th:only-of-type {\n",
       "        vertical-align: middle;\n",
       "    }\n",
       "\n",
       "    .dataframe tbody tr th {\n",
       "        vertical-align: top;\n",
       "    }\n",
       "\n",
       "    .dataframe thead th {\n",
       "        text-align: right;\n",
       "    }\n",
       "</style>\n",
       "<table border=\"1\" class=\"dataframe\">\n",
       "  <thead>\n",
       "    <tr style=\"text-align: right;\">\n",
       "      <th></th>\n",
       "      <th>Date</th>\n",
       "      <th>Time</th>\n",
       "      <th>Latitude</th>\n",
       "      <th>Longitude</th>\n",
       "      <th>Type</th>\n",
       "      <th>Depth</th>\n",
       "      <th>Depth Error</th>\n",
       "      <th>Depth Seismic Stations</th>\n",
       "      <th>Magnitude</th>\n",
       "      <th>Magnitude Type</th>\n",
       "      <th>...</th>\n",
       "      <th>Magnitude Seismic Stations</th>\n",
       "      <th>Azimuthal Gap</th>\n",
       "      <th>Horizontal Distance</th>\n",
       "      <th>Horizontal Error</th>\n",
       "      <th>Root Mean Square</th>\n",
       "      <th>ID</th>\n",
       "      <th>Source</th>\n",
       "      <th>Location Source</th>\n",
       "      <th>Magnitude Source</th>\n",
       "      <th>Status</th>\n",
       "    </tr>\n",
       "  </thead>\n",
       "  <tbody>\n",
       "    <tr>\n",
       "      <th>3378</th>\n",
       "      <td>1975-02-23T02:58:41.000Z</td>\n",
       "      <td>1975-02-23T02:58:41.000Z</td>\n",
       "      <td>8.017</td>\n",
       "      <td>124.075</td>\n",
       "      <td>Earthquake</td>\n",
       "      <td>623.0</td>\n",
       "      <td>NaN</td>\n",
       "      <td>NaN</td>\n",
       "      <td>5.6</td>\n",
       "      <td>MB</td>\n",
       "      <td>...</td>\n",
       "      <td>NaN</td>\n",
       "      <td>NaN</td>\n",
       "      <td>NaN</td>\n",
       "      <td>NaN</td>\n",
       "      <td>NaN</td>\n",
       "      <td>USP0000A09</td>\n",
       "      <td>US</td>\n",
       "      <td>US</td>\n",
       "      <td>US</td>\n",
       "      <td>Reviewed</td>\n",
       "    </tr>\n",
       "    <tr>\n",
       "      <th>7512</th>\n",
       "      <td>1985-04-28T02:53:41.530Z</td>\n",
       "      <td>1985-04-28T02:53:41.530Z</td>\n",
       "      <td>-32.998</td>\n",
       "      <td>-71.766</td>\n",
       "      <td>Earthquake</td>\n",
       "      <td>33.0</td>\n",
       "      <td>NaN</td>\n",
       "      <td>NaN</td>\n",
       "      <td>5.6</td>\n",
       "      <td>MW</td>\n",
       "      <td>...</td>\n",
       "      <td>NaN</td>\n",
       "      <td>NaN</td>\n",
       "      <td>NaN</td>\n",
       "      <td>NaN</td>\n",
       "      <td>1.30</td>\n",
       "      <td>USP0002E81</td>\n",
       "      <td>US</td>\n",
       "      <td>US</td>\n",
       "      <td>HRV</td>\n",
       "      <td>Reviewed</td>\n",
       "    </tr>\n",
       "    <tr>\n",
       "      <th>20650</th>\n",
       "      <td>2011-03-13T02:23:34.520Z</td>\n",
       "      <td>2011-03-13T02:23:34.520Z</td>\n",
       "      <td>36.344</td>\n",
       "      <td>142.344</td>\n",
       "      <td>Earthquake</td>\n",
       "      <td>10.1</td>\n",
       "      <td>13.9</td>\n",
       "      <td>289.0</td>\n",
       "      <td>5.8</td>\n",
       "      <td>MWC</td>\n",
       "      <td>...</td>\n",
       "      <td>NaN</td>\n",
       "      <td>32.3</td>\n",
       "      <td>NaN</td>\n",
       "      <td>NaN</td>\n",
       "      <td>1.06</td>\n",
       "      <td>USP000HWQP</td>\n",
       "      <td>US</td>\n",
       "      <td>US</td>\n",
       "      <td>GCMT</td>\n",
       "      <td>Reviewed</td>\n",
       "    </tr>\n",
       "  </tbody>\n",
       "</table>\n",
       "<p>3 rows × 21 columns</p>\n",
       "</div>"
      ],
      "text/plain": [
       "                           Date                      Time  Latitude  \\\n",
       "3378   1975-02-23T02:58:41.000Z  1975-02-23T02:58:41.000Z     8.017   \n",
       "7512   1985-04-28T02:53:41.530Z  1985-04-28T02:53:41.530Z   -32.998   \n",
       "20650  2011-03-13T02:23:34.520Z  2011-03-13T02:23:34.520Z    36.344   \n",
       "\n",
       "       Longitude        Type  Depth  Depth Error  Depth Seismic Stations  \\\n",
       "3378     124.075  Earthquake  623.0          NaN                     NaN   \n",
       "7512     -71.766  Earthquake   33.0          NaN                     NaN   \n",
       "20650    142.344  Earthquake   10.1         13.9                   289.0   \n",
       "\n",
       "       Magnitude Magnitude Type  ...  Magnitude Seismic Stations  \\\n",
       "3378         5.6             MB  ...                         NaN   \n",
       "7512         5.6             MW  ...                         NaN   \n",
       "20650        5.8            MWC  ...                         NaN   \n",
       "\n",
       "       Azimuthal Gap  Horizontal Distance  Horizontal Error  Root Mean Square  \\\n",
       "3378             NaN                  NaN               NaN               NaN   \n",
       "7512             NaN                  NaN               NaN              1.30   \n",
       "20650           32.3                  NaN               NaN              1.06   \n",
       "\n",
       "               ID Source Location Source Magnitude Source    Status  \n",
       "3378   USP0000A09     US              US               US  Reviewed  \n",
       "7512   USP0002E81     US              US              HRV  Reviewed  \n",
       "20650  USP000HWQP     US              US             GCMT  Reviewed  \n",
       "\n",
       "[3 rows x 21 columns]"
      ]
     },
     "execution_count": 9,
     "metadata": {},
     "output_type": "execute_result"
    }
   ],
   "source": [
    "indices = np.where([date_lengths == 24])[1]\n",
    "print('Indices with corrupted data:', indices)\n",
    "earthquakes.loc[indices]"
   ]
  },
  {
   "cell_type": "markdown",
   "id": "statutory-accountability",
   "metadata": {
    "papermill": {
     "duration": 0.026608,
     "end_time": "2021-04-30T02:47:23.941560",
     "exception": false,
     "start_time": "2021-04-30T02:47:23.914952",
     "status": "completed"
    },
    "tags": []
   },
   "source": [
    "Given all of this information, it's your turn to create a new column \"date_parsed\" in the `earthquakes` dataset that has correctly parsed dates in it.  \n",
    "\n",
    "**Note**: When completing this problem, you are allowed to (but are not required to) amend the entries in the \"Date\" and \"Time\" columns.  Do not remove any rows from the dataset."
   ]
  },
  {
   "cell_type": "code",
   "execution_count": 10,
   "id": "bridal-psychology",
   "metadata": {
    "execution": {
     "iopub.execute_input": "2021-04-30T02:47:24.000385Z",
     "iopub.status.busy": "2021-04-30T02:47:23.999652Z",
     "iopub.status.idle": "2021-04-30T02:47:24.008994Z",
     "shell.execute_reply": "2021-04-30T02:47:24.008330Z"
    },
    "papermill": {
     "duration": 0.040094,
     "end_time": "2021-04-30T02:47:24.009161",
     "exception": false,
     "start_time": "2021-04-30T02:47:23.969067",
     "status": "completed"
    },
    "tags": []
   },
   "outputs": [],
   "source": [
    "# pd.to_datetime(earthquakes.loc[indices]['Date'], infer_datetime_format=True)\n",
    "earthquakes.loc[3378, 'Date'] = '02/23/1975'\n",
    "\n",
    "earthquakes.loc[7512, 'Date'] = '04/28/1985'\n",
    "\n",
    "earthquakes.loc[20650, 'Date'] = '03/13/2011'"
   ]
  },
  {
   "cell_type": "code",
   "execution_count": 11,
   "id": "elementary-expert",
   "metadata": {
    "execution": {
     "iopub.execute_input": "2021-04-30T02:47:24.071966Z",
     "iopub.status.busy": "2021-04-30T02:47:24.071177Z",
     "iopub.status.idle": "2021-04-30T02:47:24.130718Z",
     "shell.execute_reply": "2021-04-30T02:47:24.129919Z"
    },
    "papermill": {
     "duration": 0.094668,
     "end_time": "2021-04-30T02:47:24.130887",
     "exception": false,
     "start_time": "2021-04-30T02:47:24.036219",
     "status": "completed"
    },
    "tags": []
   },
   "outputs": [],
   "source": [
    "# TODO: Your code here\n",
    "earthquakes['date_parsed'] = pd.to_datetime(earthquakes['Date'], format=\"%m/%d/%Y\")\n",
    "# Check your answer\n",
    "#q2.check()"
   ]
  },
  {
   "cell_type": "code",
   "execution_count": null,
   "id": "aware-people",
   "metadata": {
    "papermill": {
     "duration": 0.027223,
     "end_time": "2021-04-30T02:47:24.185568",
     "exception": false,
     "start_time": "2021-04-30T02:47:24.158345",
     "status": "completed"
    },
    "tags": []
   },
   "outputs": [],
   "source": []
  },
  {
   "cell_type": "code",
   "execution_count": 12,
   "id": "medical-certification",
   "metadata": {
    "execution": {
     "iopub.execute_input": "2021-04-30T02:47:24.246802Z",
     "iopub.status.busy": "2021-04-30T02:47:24.246093Z",
     "iopub.status.idle": "2021-04-30T02:47:24.257594Z",
     "shell.execute_reply": "2021-04-30T02:47:24.256944Z"
    },
    "papermill": {
     "duration": 0.044523,
     "end_time": "2021-04-30T02:47:24.257758",
     "exception": false,
     "start_time": "2021-04-30T02:47:24.213235",
     "status": "completed"
    },
    "tags": []
   },
   "outputs": [
    {
     "data": {
      "application/javascript": [
       "parent.postMessage({\"jupyterEvent\": \"custom.exercise_interaction\", \"data\": {\"outcomeType\": 1, \"valueTowardsCompletion\": 0.25, \"interactionType\": 1, \"questionType\": 2, \"questionId\": \"2_ConvertToDatetime\", \"learnToolsVersion\": \"0.3.4\", \"failureMessage\": \"\", \"exceptionClass\": \"\", \"trace\": \"\"}}, \"*\")"
      ],
      "text/plain": [
       "<IPython.core.display.Javascript object>"
      ]
     },
     "metadata": {},
     "output_type": "display_data"
    },
    {
     "data": {
      "text/markdown": [
       "<span style=\"color:#33cc33\">Correct</span>"
      ],
      "text/plain": [
       "Correct"
      ]
     },
     "metadata": {},
     "output_type": "display_data"
    }
   ],
   "source": [
    "# TODO: Your code here\n",
    "\n",
    "# Check your answer\n",
    "q2.check()\n"
   ]
  },
  {
   "cell_type": "markdown",
   "id": "absolute-tumor",
   "metadata": {
    "papermill": {
     "duration": 0.027891,
     "end_time": "2021-04-30T02:47:24.314286",
     "exception": false,
     "start_time": "2021-04-30T02:47:24.286395",
     "status": "completed"
    },
    "tags": []
   },
   "source": [
    "# Lines below will give you a hint or solution code\n",
    "#q2.hint()\n",
    "#q2.solution()"
   ]
  },
  {
   "cell_type": "markdown",
   "id": "common-strengthening",
   "metadata": {
    "papermill": {
     "duration": 0.027724,
     "end_time": "2021-04-30T02:47:24.370991",
     "exception": false,
     "start_time": "2021-04-30T02:47:24.343267",
     "status": "completed"
    },
    "tags": []
   },
   "source": [
    "# 3) Select the day of the month\n",
    "\n",
    "Create a Pandas Series `day_of_month_earthquakes` containing the day of the month from the \"date_parsed\" column."
   ]
  },
  {
   "cell_type": "code",
   "execution_count": 13,
   "id": "refined-omaha",
   "metadata": {
    "execution": {
     "iopub.execute_input": "2021-04-30T02:47:24.432792Z",
     "iopub.status.busy": "2021-04-30T02:47:24.431942Z",
     "iopub.status.idle": "2021-04-30T02:47:24.443356Z",
     "shell.execute_reply": "2021-04-30T02:47:24.442822Z"
    },
    "papermill": {
     "duration": 0.044389,
     "end_time": "2021-04-30T02:47:24.443541",
     "exception": false,
     "start_time": "2021-04-30T02:47:24.399152",
     "status": "completed"
    },
    "tags": []
   },
   "outputs": [
    {
     "data": {
      "application/javascript": [
       "parent.postMessage({\"jupyterEvent\": \"custom.exercise_interaction\", \"data\": {\"outcomeType\": 1, \"valueTowardsCompletion\": 0.25, \"interactionType\": 1, \"questionType\": 1, \"questionId\": \"3_DayOfMonth\", \"learnToolsVersion\": \"0.3.4\", \"failureMessage\": \"\", \"exceptionClass\": \"\", \"trace\": \"\"}}, \"*\")"
      ],
      "text/plain": [
       "<IPython.core.display.Javascript object>"
      ]
     },
     "metadata": {},
     "output_type": "display_data"
    },
    {
     "data": {
      "text/markdown": [
       "<span style=\"color:#33cc33\">Correct</span>"
      ],
      "text/plain": [
       "Correct"
      ]
     },
     "metadata": {},
     "output_type": "display_data"
    }
   ],
   "source": [
    "# try to get the day of the month from the date column\n",
    "day_of_month_earthquakes = earthquakes['date_parsed'].dt.day\n",
    "\n",
    "# Check your answer\n",
    "q3.check()"
   ]
  },
  {
   "cell_type": "code",
   "execution_count": 14,
   "id": "hundred-pontiac",
   "metadata": {
    "execution": {
     "iopub.execute_input": "2021-04-30T02:47:24.506648Z",
     "iopub.status.busy": "2021-04-30T02:47:24.505972Z",
     "iopub.status.idle": "2021-04-30T02:47:24.508757Z",
     "shell.execute_reply": "2021-04-30T02:47:24.508218Z"
    },
    "papermill": {
     "duration": 0.036139,
     "end_time": "2021-04-30T02:47:24.508895",
     "exception": false,
     "start_time": "2021-04-30T02:47:24.472756",
     "status": "completed"
    },
    "tags": []
   },
   "outputs": [],
   "source": [
    "# Lines below will give you a hint or solution code\n",
    "#q3.hint()\n",
    "#q3.solution()"
   ]
  },
  {
   "cell_type": "markdown",
   "id": "israeli-archive",
   "metadata": {
    "papermill": {
     "duration": 0.029004,
     "end_time": "2021-04-30T02:47:24.567133",
     "exception": false,
     "start_time": "2021-04-30T02:47:24.538129",
     "status": "completed"
    },
    "tags": []
   },
   "source": [
    "# 4) Plot the day of the month to check the date parsing\n",
    "\n",
    "Plot the days of the month from your earthquake dataset."
   ]
  },
  {
   "cell_type": "code",
   "execution_count": 15,
   "id": "italian-hawaiian",
   "metadata": {
    "execution": {
     "iopub.execute_input": "2021-04-30T02:47:24.630319Z",
     "iopub.status.busy": "2021-04-30T02:47:24.629636Z",
     "iopub.status.idle": "2021-04-30T02:47:24.887546Z",
     "shell.execute_reply": "2021-04-30T02:47:24.886987Z"
    },
    "papermill": {
     "duration": 0.290633,
     "end_time": "2021-04-30T02:47:24.887689",
     "exception": false,
     "start_time": "2021-04-30T02:47:24.597056",
     "status": "completed"
    },
    "tags": []
   },
   "outputs": [
    {
     "name": "stderr",
     "output_type": "stream",
     "text": [
      "/opt/conda/lib/python3.7/site-packages/seaborn/distributions.py:2557: FutureWarning: `distplot` is a deprecated function and will be removed in a future version. Please adapt your code to use either `displot` (a figure-level function with similar flexibility) or `histplot` (an axes-level function for histograms).\n",
      "  warnings.warn(msg, FutureWarning)\n"
     ]
    },
    {
     "data": {
      "text/plain": [
       "<AxesSubplot:xlabel='date_parsed'>"
      ]
     },
     "execution_count": 15,
     "metadata": {},
     "output_type": "execute_result"
    },
    {
     "data": {
      "image/png": "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\n",
      "text/plain": [
       "<Figure size 432x288 with 1 Axes>"
      ]
     },
     "metadata": {
      "needs_background": "light"
     },
     "output_type": "display_data"
    }
   ],
   "source": [
    "# TODO: Your code here!\n",
    "#removing na's\n",
    "day_of_month_earthquakes = day_of_month_earthquakes.dropna()\n",
    "#plotting\n",
    "sns.distplot(day_of_month_earthquakes,kde=False,bins=31)\n"
   ]
  },
  {
   "cell_type": "markdown",
   "id": "individual-subscriber",
   "metadata": {
    "papermill": {
     "duration": 0.03036,
     "end_time": "2021-04-30T02:47:24.948558",
     "exception": false,
     "start_time": "2021-04-30T02:47:24.918198",
     "status": "completed"
    },
    "tags": []
   },
   "source": [
    "Does the graph make sense to you?"
   ]
  },
  {
   "cell_type": "code",
   "execution_count": 16,
   "id": "swiss-healing",
   "metadata": {
    "execution": {
     "iopub.execute_input": "2021-04-30T02:47:25.018802Z",
     "iopub.status.busy": "2021-04-30T02:47:25.017891Z",
     "iopub.status.idle": "2021-04-30T02:47:25.027644Z",
     "shell.execute_reply": "2021-04-30T02:47:25.026914Z"
    },
    "papermill": {
     "duration": 0.047082,
     "end_time": "2021-04-30T02:47:25.027808",
     "exception": false,
     "start_time": "2021-04-30T02:47:24.980726",
     "status": "completed"
    },
    "tags": []
   },
   "outputs": [
    {
     "data": {
      "application/javascript": [
       "parent.postMessage({\"jupyterEvent\": \"custom.exercise_interaction\", \"data\": {\"outcomeType\": 1, \"valueTowardsCompletion\": 0.25, \"interactionType\": 1, \"questionType\": 4, \"questionId\": \"4_PlotDayOfMonth\", \"learnToolsVersion\": \"0.3.4\", \"failureMessage\": \"\", \"exceptionClass\": \"\", \"trace\": \"\"}}, \"*\")"
      ],
      "text/plain": [
       "<IPython.core.display.Javascript object>"
      ]
     },
     "metadata": {},
     "output_type": "display_data"
    },
    {
     "data": {
      "text/markdown": [
       "<span style=\"color:#33cc33\">Correct:</span> \n",
       "\n",
       "The graph should make sense: it shows a relatively even distribution in days of the month,which is what we would expect."
      ],
      "text/plain": [
       "Correct: \n",
       "\n",
       "The graph should make sense: it shows a relatively even distribution in days of the month,which is what we would expect."
      ]
     },
     "metadata": {},
     "output_type": "display_data"
    },
    {
     "data": {
      "application/javascript": [
       "parent.postMessage({\"jupyterEvent\": \"custom.exercise_interaction\", \"data\": {\"interactionType\": 3, \"questionType\": 4, \"questionId\": \"4_PlotDayOfMonth\", \"learnToolsVersion\": \"0.3.4\", \"valueTowardsCompletion\": 0.0, \"failureMessage\": \"\", \"exceptionClass\": \"\", \"trace\": \"\", \"outcomeType\": 4}}, \"*\")"
      ],
      "text/plain": [
       "<IPython.core.display.Javascript object>"
      ]
     },
     "metadata": {},
     "output_type": "display_data"
    },
    {
     "data": {
      "text/markdown": [
       "<span style=\"color:#33cc99\">Solution:</span> The graph should make sense: it shows a relatively even distribution in days of the month,which is what we would expect."
      ],
      "text/plain": [
       "Solution: The graph should make sense: it shows a relatively even distribution in days of the month,which is what we would expect."
      ]
     },
     "metadata": {},
     "output_type": "display_data"
    }
   ],
   "source": [
    "# Check your answer (Run this code cell to receive credit!)\n",
    "q4.check()\n",
    "q4.solution()"
   ]
  },
  {
   "cell_type": "code",
   "execution_count": 17,
   "id": "choice-contrary",
   "metadata": {
    "execution": {
     "iopub.execute_input": "2021-04-30T02:47:25.098855Z",
     "iopub.status.busy": "2021-04-30T02:47:25.098105Z",
     "iopub.status.idle": "2021-04-30T02:47:25.100173Z",
     "shell.execute_reply": "2021-04-30T02:47:25.100698Z"
    },
    "papermill": {
     "duration": 0.039733,
     "end_time": "2021-04-30T02:47:25.100888",
     "exception": false,
     "start_time": "2021-04-30T02:47:25.061155",
     "status": "completed"
    },
    "tags": []
   },
   "outputs": [],
   "source": [
    "# Line below will give you a hint\n",
    "#q4.hint()"
   ]
  },
  {
   "cell_type": "markdown",
   "id": "photographic-latter",
   "metadata": {
    "papermill": {
     "duration": 0.032959,
     "end_time": "2021-04-30T02:47:25.166927",
     "exception": false,
     "start_time": "2021-04-30T02:47:25.133968",
     "status": "completed"
    },
    "tags": []
   },
   "source": [
    "# (Optional) Bonus Challenge\n",
    "\n",
    "For an extra challenge, you'll work with a [Smithsonian dataset](https://www.kaggle.com/smithsonian/volcanic-eruptions) that documents Earth's volcanoes and their eruptive history over the past 10,000 years \n",
    "\n",
    "Run the next code cell to load the data."
   ]
  },
  {
   "cell_type": "code",
   "execution_count": 18,
   "id": "similar-patent",
   "metadata": {
    "execution": {
     "iopub.execute_input": "2021-04-30T02:47:25.237168Z",
     "iopub.status.busy": "2021-04-30T02:47:25.236551Z",
     "iopub.status.idle": "2021-04-30T02:47:25.260003Z",
     "shell.execute_reply": "2021-04-30T02:47:25.260515Z"
    },
    "papermill": {
     "duration": 0.060678,
     "end_time": "2021-04-30T02:47:25.260740",
     "exception": false,
     "start_time": "2021-04-30T02:47:25.200062",
     "status": "completed"
    },
    "tags": []
   },
   "outputs": [],
   "source": [
    "volcanos = pd.read_csv(\"../input/volcanic-eruptions/database.csv\")"
   ]
  },
  {
   "cell_type": "markdown",
   "id": "advanced-observation",
   "metadata": {
    "papermill": {
     "duration": 0.033248,
     "end_time": "2021-04-30T02:47:25.328459",
     "exception": false,
     "start_time": "2021-04-30T02:47:25.295211",
     "status": "completed"
    },
    "tags": []
   },
   "source": [
    "Try parsing the column \"Last Known Eruption\" from the `volcanos` dataframe. This column contains a mixture of text (\"Unknown\") and years both before the common era (BCE, also known as BC) and in the common era (CE, also known as AD)."
   ]
  },
  {
   "cell_type": "code",
   "execution_count": 19,
   "id": "prompt-subscription",
   "metadata": {
    "execution": {
     "iopub.execute_input": "2021-04-30T02:47:25.398818Z",
     "iopub.status.busy": "2021-04-30T02:47:25.397898Z",
     "iopub.status.idle": "2021-04-30T02:47:25.405332Z",
     "shell.execute_reply": "2021-04-30T02:47:25.405808Z"
    },
    "papermill": {
     "duration": 0.044451,
     "end_time": "2021-04-30T02:47:25.405984",
     "exception": false,
     "start_time": "2021-04-30T02:47:25.361533",
     "status": "completed"
    },
    "tags": []
   },
   "outputs": [
    {
     "data": {
      "text/plain": [
       "764     Unknown\n",
       "1069    1996 CE\n",
       "34      1855 CE\n",
       "489     2016 CE\n",
       "9       1302 CE\n",
       "Name: Last Known Eruption, dtype: object"
      ]
     },
     "execution_count": 19,
     "metadata": {},
     "output_type": "execute_result"
    }
   ],
   "source": [
    "volcanos['Last Known Eruption'].sample(5)"
   ]
  },
  {
   "cell_type": "markdown",
   "id": "technological-reform",
   "metadata": {
    "papermill": {
     "duration": 0.033146,
     "end_time": "2021-04-30T02:47:25.472562",
     "exception": false,
     "start_time": "2021-04-30T02:47:25.439416",
     "status": "completed"
    },
    "tags": []
   },
   "source": []
  }
 ],
 "metadata": {
  "kernelspec": {
   "display_name": "Python 3",
   "language": "python",
   "name": "python3"
  },
  "language_info": {
   "codemirror_mode": {
    "name": "ipython",
    "version": 3
   },
   "file_extension": ".py",
   "mimetype": "text/x-python",
   "name": "python",
   "nbconvert_exporter": "python",
   "pygments_lexer": "ipython3",
   "version": "3.7.9"
  },
  "papermill": {
   "default_parameters": {},
   "duration": 12.495435,
   "end_time": "2021-04-30T02:47:26.417501",
   "environment_variables": {},
   "exception": null,
   "input_path": "__notebook__.ipynb",
   "output_path": "__notebook__.ipynb",
   "parameters": {},
   "start_time": "2021-04-30T02:47:13.922066",
   "version": "2.3.2"
  }
 },
 "nbformat": 4,
 "nbformat_minor": 5
}
