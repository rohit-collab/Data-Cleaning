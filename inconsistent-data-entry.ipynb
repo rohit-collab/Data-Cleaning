{
 "cells": [
  {
   "cell_type": "markdown",
   "id": "expired-dealer",
   "metadata": {
    "papermill": {
     "duration": 0.01391,
     "end_time": "2021-04-30T03:14:58.273336",
     "exception": false,
     "start_time": "2021-04-30T03:14:58.259426",
     "status": "completed"
    },
    "tags": []
   },
   "source": [
    "In this exercise, you'll apply what you learned in the **Inconsistent data entry** tutorial.\n",
    "\n",
    "# Setup\n",
    "\n",
    "The questions below will give you feedback on your work. Run the following cell to set up the feedback system."
   ]
  },
  {
   "cell_type": "code",
   "execution_count": 1,
   "id": "amended-motion",
   "metadata": {
    "execution": {
     "iopub.execute_input": "2021-04-30T03:14:58.304088Z",
     "iopub.status.busy": "2021-04-30T03:14:58.302941Z",
     "iopub.status.idle": "2021-04-30T03:14:58.414970Z",
     "shell.execute_reply": "2021-04-30T03:14:58.415438Z"
    },
    "papermill": {
     "duration": 0.129074,
     "end_time": "2021-04-30T03:14:58.415734",
     "exception": false,
     "start_time": "2021-04-30T03:14:58.286660",
     "status": "completed"
    },
    "tags": []
   },
   "outputs": [
    {
     "name": "stdout",
     "output_type": "stream",
     "text": [
      "Setup Complete\n"
     ]
    }
   ],
   "source": [
    "from learntools.core import binder\n",
    "binder.bind(globals())\n",
    "from learntools.data_cleaning.ex5 import *\n",
    "print(\"Setup Complete\")"
   ]
  },
  {
   "cell_type": "markdown",
   "id": "dense-beverage",
   "metadata": {
    "papermill": {
     "duration": 0.013085,
     "end_time": "2021-04-30T03:14:58.442910",
     "exception": false,
     "start_time": "2021-04-30T03:14:58.429825",
     "status": "completed"
    },
    "tags": []
   },
   "source": [
    "# Get our environment set up\n",
    "\n",
    "The first thing we'll need to do is load in the libraries and dataset we'll be using.  We use the same dataset from the tutorial."
   ]
  },
  {
   "cell_type": "code",
   "execution_count": 2,
   "id": "defensive-provincial",
   "metadata": {
    "execution": {
     "iopub.execute_input": "2021-04-30T03:14:58.475969Z",
     "iopub.status.busy": "2021-04-30T03:14:58.475308Z",
     "iopub.status.idle": "2021-04-30T03:14:58.489545Z",
     "shell.execute_reply": "2021-04-30T03:14:58.488874Z"
    },
    "papermill": {
     "duration": 0.033346,
     "end_time": "2021-04-30T03:14:58.489699",
     "exception": false,
     "start_time": "2021-04-30T03:14:58.456353",
     "status": "completed"
    },
    "tags": []
   },
   "outputs": [],
   "source": [
    "# modules we'll use\n",
    "import pandas as pd\n",
    "import numpy as np\n",
    "\n",
    "# helpful modules\n",
    "import fuzzywuzzy\n",
    "from fuzzywuzzy import process\n",
    "import chardet\n",
    "\n",
    "# read in all our data\n",
    "professors = pd.read_csv(\"../input/pakistan-intellectual-capital/pakistan_intellectual_capital.csv\")\n",
    "\n",
    "# set seed for reproducibility\n",
    "np.random.seed(0)"
   ]
  },
  {
   "cell_type": "markdown",
   "id": "loaded-lightning",
   "metadata": {
    "papermill": {
     "duration": 0.013457,
     "end_time": "2021-04-30T03:14:58.517119",
     "exception": false,
     "start_time": "2021-04-30T03:14:58.503662",
     "status": "completed"
    },
    "tags": []
   },
   "source": [
    "Next, we'll redo all of the work that we did in the tutorial."
   ]
  },
  {
   "cell_type": "code",
   "execution_count": 3,
   "id": "approved-starter",
   "metadata": {
    "execution": {
     "iopub.execute_input": "2021-04-30T03:14:58.567897Z",
     "iopub.status.busy": "2021-04-30T03:14:58.566792Z",
     "iopub.status.idle": "2021-04-30T03:14:58.570328Z",
     "shell.execute_reply": "2021-04-30T03:14:58.570874Z"
    },
    "papermill": {
     "duration": 0.039485,
     "end_time": "2021-04-30T03:14:58.571066",
     "exception": false,
     "start_time": "2021-04-30T03:14:58.531581",
     "status": "completed"
    },
    "tags": []
   },
   "outputs": [
    {
     "name": "stdout",
     "output_type": "stream",
     "text": [
      "All done!\n"
     ]
    }
   ],
   "source": [
    "# convert to lower case\n",
    "professors['Country'] = professors['Country'].str.lower()\n",
    "# remove trailing white spaces\n",
    "professors['Country'] = professors['Country'].str.strip()\n",
    "\n",
    "# get the top 10 closest matches to \"south korea\"\n",
    "countries = professors['Country'].unique()\n",
    "matches = fuzzywuzzy.process.extract(\"south korea\", countries, limit=10, scorer=fuzzywuzzy.fuzz.token_sort_ratio)\n",
    "\n",
    "def replace_matches_in_column(df, column, string_to_match, min_ratio = 47):\n",
    "    # get a list of unique strings\n",
    "    strings = df[column].unique()\n",
    "    \n",
    "    # get the top 10 closest matches to our input string\n",
    "    matches = fuzzywuzzy.process.extract(string_to_match, strings, \n",
    "                                         limit=10, scorer=fuzzywuzzy.fuzz.token_sort_ratio)\n",
    "\n",
    "    # only get matches with a ratio > 90\n",
    "    close_matches = [matches[0] for matches in matches if matches[1] >= min_ratio]\n",
    "\n",
    "    # get the rows of all the close matches in our dataframe\n",
    "    rows_with_matches = df[column].isin(close_matches)\n",
    "\n",
    "    # replace all rows with close matches with the input matches \n",
    "    df.loc[rows_with_matches, column] = string_to_match\n",
    "    \n",
    "    # let us know the function's done\n",
    "    print(\"All done!\")\n",
    "    \n",
    "replace_matches_in_column(df=professors, column='Country', string_to_match=\"south korea\")\n",
    "countries = professors['Country'].unique()"
   ]
  },
  {
   "cell_type": "markdown",
   "id": "seventh-sacramento",
   "metadata": {
    "papermill": {
     "duration": 0.015499,
     "end_time": "2021-04-30T03:14:58.600899",
     "exception": false,
     "start_time": "2021-04-30T03:14:58.585400",
     "status": "completed"
    },
    "tags": []
   },
   "source": [
    "# 1) Examine another column\n",
    "\n",
    "Write code below to take a look at all the unique values in the \"Graduated from\" column."
   ]
  },
  {
   "cell_type": "code",
   "execution_count": 4,
   "id": "accredited-johnston",
   "metadata": {
    "execution": {
     "iopub.execute_input": "2021-04-30T03:14:58.637470Z",
     "iopub.status.busy": "2021-04-30T03:14:58.636861Z",
     "iopub.status.idle": "2021-04-30T03:14:58.641791Z",
     "shell.execute_reply": "2021-04-30T03:14:58.641279Z"
    },
    "papermill": {
     "duration": 0.026428,
     "end_time": "2021-04-30T03:14:58.641930",
     "exception": false,
     "start_time": "2021-04-30T03:14:58.615502",
     "status": "completed"
    },
    "tags": []
   },
   "outputs": [
    {
     "data": {
      "text/plain": [
       "array(['thailand', 'pakistan', 'germany', 'austria', 'australia', 'uk',\n",
       "       'china', 'france', 'usofa', 'south korea', 'malaysia', 'sweden',\n",
       "       'italy', 'canada', 'norway', 'ireland', 'new zealand', 'urbana',\n",
       "       'portugal', 'russian federation', 'usa', 'finland', 'netherland',\n",
       "       'greece', 'turkey', 'macau', 'singapore', 'spain', 'japan',\n",
       "       'hongkong', 'saudi arabia', 'mauritius', 'scotland'], dtype=object)"
      ]
     },
     "execution_count": 4,
     "metadata": {},
     "output_type": "execute_result"
    }
   ],
   "source": [
    "countries"
   ]
  },
  {
   "cell_type": "markdown",
   "id": "fluid-henry",
   "metadata": {
    "papermill": {
     "duration": 0.014446,
     "end_time": "2021-04-30T03:14:58.671993",
     "exception": false,
     "start_time": "2021-04-30T03:14:58.657547",
     "status": "completed"
    },
    "tags": []
   },
   "source": [
    "Do you notice any inconsistencies in the data?  Can any of the inconsistencies in the data be fixed by removing white spaces at the beginning and end of cells?\n",
    "\n",
    "Once you have answered these questions, run the code cell below to get credit for your work."
   ]
  },
  {
   "cell_type": "code",
   "execution_count": 5,
   "id": "worse-examination",
   "metadata": {
    "execution": {
     "iopub.execute_input": "2021-04-30T03:14:58.707291Z",
     "iopub.status.busy": "2021-04-30T03:14:58.706353Z",
     "iopub.status.idle": "2021-04-30T03:14:58.712426Z",
     "shell.execute_reply": "2021-04-30T03:14:58.711812Z"
    },
    "papermill": {
     "duration": 0.025823,
     "end_time": "2021-04-30T03:14:58.712560",
     "exception": false,
     "start_time": "2021-04-30T03:14:58.686737",
     "status": "completed"
    },
    "tags": []
   },
   "outputs": [
    {
     "data": {
      "application/javascript": [
       "parent.postMessage({\"jupyterEvent\": \"custom.exercise_interaction\", \"data\": {\"outcomeType\": 1, \"valueTowardsCompletion\": 0.3333333333333333, \"interactionType\": 1, \"questionType\": 4, \"questionId\": \"1_ExamineProvince\", \"learnToolsVersion\": \"0.3.4\", \"failureMessage\": \"\", \"exceptionClass\": \"\", \"trace\": \"\"}}, \"*\")"
      ],
      "text/plain": [
       "<IPython.core.display.Javascript object>"
      ]
     },
     "metadata": {},
     "output_type": "display_data"
    },
    {
     "data": {
      "text/markdown": [
       "<span style=\"color:#33cc33\">Correct:</span> \n",
       "\n",
       "There are inconsistencies that can be fixed by removing white spaces at the beginning and end of cells.  For instance, \"University of Central Florida\" and \" University of Central Florida\" both appear in the column."
      ],
      "text/plain": [
       "Correct: \n",
       "\n",
       "There are inconsistencies that can be fixed by removing white spaces at the beginning and end of cells.  For instance, \"University of Central Florida\" and \" University of Central Florida\" both appear in the column."
      ]
     },
     "metadata": {},
     "output_type": "display_data"
    }
   ],
   "source": [
    "# Check your answer (Run this code cell to receive credit!)\n",
    "q1.check()\n"
   ]
  },
  {
   "cell_type": "code",
   "execution_count": 6,
   "id": "confirmed-mexican",
   "metadata": {
    "execution": {
     "iopub.execute_input": "2021-04-30T03:14:58.749195Z",
     "iopub.status.busy": "2021-04-30T03:14:58.748529Z",
     "iopub.status.idle": "2021-04-30T03:14:58.751397Z",
     "shell.execute_reply": "2021-04-30T03:14:58.751925Z"
    },
    "papermill": {
     "duration": 0.023566,
     "end_time": "2021-04-30T03:14:58.752101",
     "exception": false,
     "start_time": "2021-04-30T03:14:58.728535",
     "status": "completed"
    },
    "tags": []
   },
   "outputs": [],
   "source": [
    "# Line below will give you a hint\n",
    "#q1.hint()"
   ]
  },
  {
   "cell_type": "markdown",
   "id": "rocky-young",
   "metadata": {
    "papermill": {
     "duration": 0.015784,
     "end_time": "2021-04-30T03:14:58.783846",
     "exception": false,
     "start_time": "2021-04-30T03:14:58.768062",
     "status": "completed"
    },
    "tags": []
   },
   "source": [
    "# 2) Do some text pre-processing\n",
    "\n",
    "Convert every entry in the \"Graduated from\" column in the `professors` DataFrame to remove white spaces at the beginning and end of cells."
   ]
  },
  {
   "cell_type": "code",
   "execution_count": 7,
   "id": "joined-recognition",
   "metadata": {
    "execution": {
     "iopub.execute_input": "2021-04-30T03:14:58.826167Z",
     "iopub.status.busy": "2021-04-30T03:14:58.825313Z",
     "iopub.status.idle": "2021-04-30T03:14:58.831500Z",
     "shell.execute_reply": "2021-04-30T03:14:58.830876Z"
    },
    "papermill": {
     "duration": 0.031946,
     "end_time": "2021-04-30T03:14:58.831639",
     "exception": false,
     "start_time": "2021-04-30T03:14:58.799693",
     "status": "completed"
    },
    "tags": []
   },
   "outputs": [
    {
     "data": {
      "application/javascript": [
       "parent.postMessage({\"jupyterEvent\": \"custom.exercise_interaction\", \"data\": {\"outcomeType\": 1, \"valueTowardsCompletion\": 0.3333333333333333, \"interactionType\": 1, \"questionType\": 1, \"questionId\": \"2_TextProcessing\", \"learnToolsVersion\": \"0.3.4\", \"failureMessage\": \"\", \"exceptionClass\": \"\", \"trace\": \"\"}}, \"*\")"
      ],
      "text/plain": [
       "<IPython.core.display.Javascript object>"
      ]
     },
     "metadata": {},
     "output_type": "display_data"
    },
    {
     "data": {
      "text/markdown": [
       "<span style=\"color:#33cc33\">Correct</span>"
      ],
      "text/plain": [
       "Correct"
      ]
     },
     "metadata": {},
     "output_type": "display_data"
    }
   ],
   "source": [
    "# TODO: Your code here\n",
    "professors['Graduated from'] = professors['Graduated from'].str.strip()\n",
    "\n",
    "\n",
    "# Check your answer\n",
    "q2.check()"
   ]
  },
  {
   "cell_type": "code",
   "execution_count": 8,
   "id": "cooperative-filing",
   "metadata": {
    "execution": {
     "iopub.execute_input": "2021-04-30T03:14:58.870132Z",
     "iopub.status.busy": "2021-04-30T03:14:58.869486Z",
     "iopub.status.idle": "2021-04-30T03:14:58.873021Z",
     "shell.execute_reply": "2021-04-30T03:14:58.872388Z"
    },
    "papermill": {
     "duration": 0.024184,
     "end_time": "2021-04-30T03:14:58.873156",
     "exception": false,
     "start_time": "2021-04-30T03:14:58.848972",
     "status": "completed"
    },
    "tags": []
   },
   "outputs": [],
   "source": [
    "# Lines below will give you a hint or solution code\n",
    "#q2.hint()\n",
    "#q2.solution()"
   ]
  },
  {
   "cell_type": "markdown",
   "id": "incredible-promise",
   "metadata": {
    "papermill": {
     "duration": 0.016741,
     "end_time": "2021-04-30T03:14:58.907205",
     "exception": false,
     "start_time": "2021-04-30T03:14:58.890464",
     "status": "completed"
    },
    "tags": []
   },
   "source": [
    "# 3) Continue working with countries\n",
    "\n",
    "In the tutorial, we focused on cleaning up inconsistencies in the \"Country\" column.  Run the code cell below to view the list of unique values that we ended with."
   ]
  },
  {
   "cell_type": "code",
   "execution_count": 9,
   "id": "conventional-fountain",
   "metadata": {
    "execution": {
     "iopub.execute_input": "2021-04-30T03:14:58.950004Z",
     "iopub.status.busy": "2021-04-30T03:14:58.949330Z",
     "iopub.status.idle": "2021-04-30T03:14:58.953598Z",
     "shell.execute_reply": "2021-04-30T03:14:58.953103Z"
    },
    "papermill": {
     "duration": 0.029486,
     "end_time": "2021-04-30T03:14:58.953768",
     "exception": false,
     "start_time": "2021-04-30T03:14:58.924282",
     "status": "completed"
    },
    "tags": []
   },
   "outputs": [
    {
     "data": {
      "text/plain": [
       "array(['australia', 'austria', 'canada', 'china', 'finland', 'france',\n",
       "       'germany', 'greece', 'hongkong', 'ireland', 'italy', 'japan',\n",
       "       'macau', 'malaysia', 'mauritius', 'netherland', 'new zealand',\n",
       "       'norway', 'pakistan', 'portugal', 'russian federation',\n",
       "       'saudi arabia', 'scotland', 'singapore', 'south korea', 'spain',\n",
       "       'sweden', 'thailand', 'turkey', 'uk', 'urbana', 'usa', 'usofa'],\n",
       "      dtype=object)"
      ]
     },
     "execution_count": 9,
     "metadata": {},
     "output_type": "execute_result"
    }
   ],
   "source": [
    "# get all the unique values in the 'City' column\n",
    "countries = professors['Country'].unique()\n",
    "\n",
    "# sort them alphabetically and then take a closer look\n",
    "countries.sort()\n",
    "countries"
   ]
  },
  {
   "cell_type": "markdown",
   "id": "literary-millennium",
   "metadata": {
    "papermill": {
     "duration": 0.017178,
     "end_time": "2021-04-30T03:14:58.988666",
     "exception": false,
     "start_time": "2021-04-30T03:14:58.971488",
     "status": "completed"
    },
    "tags": []
   },
   "source": [
    "Take another look at the \"Country\" column and see if there's any more data cleaning we need to do.\n",
    "\n",
    "It looks like 'usa' and 'usofa' should be the same country.  Correct the \"Country\" column in the dataframe so that 'usofa' appears instead as 'usa'.\n",
    "\n",
    "**Use the most recent version of the DataFrame (with the whitespaces at the beginning and end of cells removed) from question 2.**"
   ]
  },
  {
   "cell_type": "code",
   "execution_count": 10,
   "id": "prescription-spread",
   "metadata": {
    "execution": {
     "iopub.execute_input": "2021-04-30T03:14:59.034977Z",
     "iopub.status.busy": "2021-04-30T03:14:59.033932Z",
     "iopub.status.idle": "2021-04-30T03:14:59.040536Z",
     "shell.execute_reply": "2021-04-30T03:14:59.041175Z"
    },
    "papermill": {
     "duration": 0.035095,
     "end_time": "2021-04-30T03:14:59.041418",
     "exception": false,
     "start_time": "2021-04-30T03:14:59.006323",
     "status": "completed"
    },
    "tags": []
   },
   "outputs": [
    {
     "name": "stdout",
     "output_type": "stream",
     "text": [
      "All done!\n"
     ]
    },
    {
     "data": {
      "application/javascript": [
       "parent.postMessage({\"jupyterEvent\": \"custom.exercise_interaction\", \"data\": {\"outcomeType\": 1, \"valueTowardsCompletion\": 0.3333333333333333, \"interactionType\": 1, \"questionType\": 1, \"questionId\": \"3_WorkingWithCities\", \"learnToolsVersion\": \"0.3.4\", \"failureMessage\": \"\", \"exceptionClass\": \"\", \"trace\": \"\"}}, \"*\")"
      ],
      "text/plain": [
       "<IPython.core.display.Javascript object>"
      ]
     },
     "metadata": {},
     "output_type": "display_data"
    },
    {
     "data": {
      "text/markdown": [
       "<span style=\"color:#33cc33\">Correct</span>"
      ],
      "text/plain": [
       "Correct"
      ]
     },
     "metadata": {},
     "output_type": "display_data"
    }
   ],
   "source": [
    "# TODO: Your code here!\n",
    "matches = fuzzywuzzy.process.extract(\"usa\", countries, limit=10, scorer=fuzzywuzzy.fuzz.token_sort_ratio)\n",
    "replace_matches_in_column(df=professors, column='Country', string_to_match=\"usa\", min_ratio=70)\n",
    "\n",
    "\n",
    "# Check your answer\n",
    "q3.check()\n"
   ]
  },
  {
   "cell_type": "code",
   "execution_count": 11,
   "id": "charged-edition",
   "metadata": {
    "execution": {
     "iopub.execute_input": "2021-04-30T03:14:59.085550Z",
     "iopub.status.busy": "2021-04-30T03:14:59.084948Z",
     "iopub.status.idle": "2021-04-30T03:14:59.088262Z",
     "shell.execute_reply": "2021-04-30T03:14:59.088774Z"
    },
    "papermill": {
     "duration": 0.027051,
     "end_time": "2021-04-30T03:14:59.088952",
     "exception": false,
     "start_time": "2021-04-30T03:14:59.061901",
     "status": "completed"
    },
    "tags": []
   },
   "outputs": [],
   "source": [
    "# Lines below will give you a hint or solution code\n",
    "#q3.hint()\n",
    "#q3.solution()"
   ]
  },
  {
   "cell_type": "markdown",
   "id": "proprietary-layer",
   "metadata": {
    "papermill": {
     "duration": 0.01895,
     "end_time": "2021-04-30T03:14:59.127266",
     "exception": false,
     "start_time": "2021-04-30T03:14:59.108316",
     "status": "completed"
    },
    "tags": []
   },
   "source": [
    "# Congratulations!\n",
    "\n",
    "Congratulations for completing the **Data Cleaning** course on Kaggle Learn!\n",
    "\n",
    "To practice your new skills, you're encouraged to download and investigate some of [Kaggle's Datasets](https://www.kaggle.com/datasets)."
   ]
  },
  {
   "cell_type": "markdown",
   "id": "hungry-spencer",
   "metadata": {
    "papermill": {
     "duration": 0.018852,
     "end_time": "2021-04-30T03:14:59.165437",
     "exception": false,
     "start_time": "2021-04-30T03:14:59.146585",
     "status": "completed"
    },
    "tags": []
   },
   "source": [
    "---\n",
    "\n",
    "\n",
    "\n",
    "\n",
    "*Have questions or comments? Visit the [Learn Discussion forum](https://www.kaggle.com/learn-forum/172650) to chat with other Learners.*"
   ]
  }
 ],
 "metadata": {
  "kernelspec": {
   "display_name": "Python 3",
   "language": "python",
   "name": "python3"
  },
  "language_info": {
   "codemirror_mode": {
    "name": "ipython",
    "version": 3
   },
   "file_extension": ".py",
   "mimetype": "text/x-python",
   "name": "python",
   "nbconvert_exporter": "python",
   "pygments_lexer": "ipython3",
   "version": "3.7.9"
  },
  "papermill": {
   "default_parameters": {},
   "duration": 8.032374,
   "end_time": "2021-04-30T03:14:59.795668",
   "environment_variables": {},
   "exception": null,
   "input_path": "__notebook__.ipynb",
   "output_path": "__notebook__.ipynb",
   "parameters": {},
   "start_time": "2021-04-30T03:14:51.763294",
   "version": "2.3.2"
  }
 },
 "nbformat": 4,
 "nbformat_minor": 5
}
